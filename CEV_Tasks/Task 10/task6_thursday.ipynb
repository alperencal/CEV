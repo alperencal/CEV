{
  "nbformat": 4,
  "nbformat_minor": 0,
  "metadata": {
    "colab": {
      "provenance": []
    },
    "kernelspec": {
      "name": "python3",
      "display_name": "Python 3"
    },
    "language_info": {
      "name": "python"
    }
  },
  "cells": [
    {
      "cell_type": "markdown",
      "source": [
        "dumps; str değeri döndürürken dump değer döndürmez. Eğer dump kullanılıcaksa JSON'a dönüşecek ifadeyi dosyayı bulunduran değişkene yazılır.\n",
        "dump ve load ögeleri dosya ve nesne arasında dönüşür. dumps ve loads ögeleri diziler ve nesneler arasında dönüşür\n",
        "\n",
        "sözlük ve json farkı:\n",
        "sözlük dict tipinde, json string tipinde\n",
        "sözlükte anahtarlar tekrarlanamazken jsonda tekrarlanabilir.\n",
        "\n",
        "ascii ve utf8 farkı:\n",
        "ascii karakter seti iken UTF8 karakter kodlamasıdır.\n",
        "\n",
        "127.0.0.1 bilgisayarın yerel IP adresi. sadece bilgisayar içinde yer alan sunucu ve yazılımlar tarafından kullanılır."
      ],
      "metadata": {
        "id": "jecxOzxB907X"
      }
    }
  ]
}