{
  "nbformat": 4,
  "nbformat_minor": 0,
  "metadata": {
    "colab": {
      "provenance": [],
      "collapsed_sections": []
    },
    "kernelspec": {
      "name": "python3",
      "display_name": "Python 3"
    },
    "language_info": {
      "name": "python"
    }
  },
  "cells": [
    {
      "cell_type": "code",
      "execution_count": 17,
      "metadata": {
        "id": "TiueKvSVr7vz",
        "colab": {
          "base_uri": "https://localhost:8080/"
        },
        "outputId": "a2e3f433-187c-44cd-a762-db666d9df903"
      },
      "outputs": [
        {
          "output_type": "stream",
          "name": "stdout",
          "text": [
            "Kalın Bacaklı\n",
            "Hayvan Sınıfının Bilgileri: \n",
            "Hayvanın Türü: Sauropod\n",
            "Hayvanın Boyu(metre): 30\n",
            "Hayvanın Kilosu: 2500\n",
            "Hayvanın Beslenme Şekli: Otobur\n",
            " \n",
            "None\n",
            "Uçabilen\n",
            "Hayvan Sınıfının Bilgileri: \n",
            "Hayvanın Türü: Pterozor\n",
            "Hayvanın Boyu(metre): 12\n",
            "Hayvanın Kilosu: 250\n",
            "Hayvanın Beslenme Şekli: Etobur\n",
            " \n",
            "None\n",
            "120\n",
            "Hayvan Sınıfının Bilgileri: \n",
            "Hayvanın Türü: Accipitridae\n",
            "Hayvanın Boyu(metre): 1\n",
            "Hayvanın Kilosu: 5\n",
            "Hayvanın Beslenme Şekli: Etobur\n",
            " \n",
            "None\n",
            "Güney Amerika\n",
            "Hayvan Sınıfının Bilgileri: \n",
            "Hayvanın Türü: Poeciliidae\n",
            "Hayvanın Boyu(metre): 0.05\n",
            "Hayvanın Kilosu: nan\n",
            "Hayvanın Beslenme Şekli: Omnivor\n",
            " \n",
            "None\n"
          ]
        }
      ],
      "source": [
        "from numpy import nan\n",
        "class Hayvan():\n",
        "  def __init__(self, cins, uzunluk, kilo, beslenme):\n",
        "    self.cins = cins\n",
        "    self.uzunluk = uzunluk\n",
        "    self.kilo = kilo\n",
        "    self.beslenme = beslenme\n",
        "\n",
        "  def bilgileri_goster(self):\n",
        "    print(\"Hayvan Sınıfının Bilgileri: \")\n",
        "    print(\"Hayvanın Türü: {}\\nHayvanın Boyu(metre): {}\\nHayvanın Kilosu: {}\\nHayvanın Beslenme Şekli: {}\\n \".format(self.cins,self.uzunluk,self.kilo,self.beslenme))\n",
        "\n",
        "class Dinozor(Hayvan):\n",
        "  def __init__(self,cins,uzunluk,kilo,beslenme,ayirt_edici_ozellik):\n",
        "    super().__init__(cins,uzunluk,kilo,beslenme)\n",
        "    self.ayirt_edici_ozellik = ayirt_edici_ozellik\n",
        "    print(self.ayirt_edici_ozellik)\n",
        "\n",
        "Sauropod = Dinozor(\"Sauropod\",30,2500,\"Otobur\",\"Kalın Bacaklı\")\n",
        "print(Sauropod.bilgileri_goster())\n",
        "\n",
        "Pterozor = Dinozor(\"Pterozor\",12,250,\"Etobur\",\"Uçabilen\")\n",
        "print(Pterozor.bilgileri_goster())\n",
        "\n",
        "class Kuş(Hayvan):\n",
        "  def __init__(self, cins, uzunluk, kilo, beslenme,hiz):\n",
        "    super().__init__(cins,uzunluk,kilo,beslenme)\n",
        "    self.hiz = hiz\n",
        "    print(self.hiz)\n",
        "\n",
        "Kartal = Kuş(\"Accipitridae\",1,5,\"Etobur\",120) \n",
        "print(Kartal.bilgileri_goster())\n",
        "\n",
        "class Balık(Hayvan):\n",
        "  def __init__(self, cins, uzunluk, kilo, beslenme,bulundugu_yer):\n",
        "    super().__init__(cins,uzunluk,kilo,beslenme)\n",
        "    self.bulundugu_yer = bulundugu_yer\n",
        "    print(self.bulundugu_yer)\n",
        "\n",
        "Gupi = Balık(\"Poeciliidae\",0.05,nan,\"Omnivor\",\"Güney Amerika\")    \n",
        "print(Gupi.bilgileri_goster())"
      ]
    }
  ]
}