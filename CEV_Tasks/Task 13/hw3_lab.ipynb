{
  "nbformat": 4,
  "nbformat_minor": 0,
  "metadata": {
    "colab": {
      "provenance": [],
      "collapsed_sections": []
    },
    "kernelspec": {
      "name": "python3",
      "display_name": "Python 3"
    },
    "language_info": {
      "name": "python"
    }
  },
  "cells": [
    {
      "cell_type": "code",
      "execution_count": 28,
      "metadata": {
        "colab": {
          "base_uri": "https://localhost:8080/"
        },
        "id": "LglVRq4cb1ww",
        "outputId": "5819f24c-1665-4f54-965d-09669dcc34b4"
      },
      "outputs": [
        {
          "output_type": "stream",
          "name": "stdout",
          "text": [
            "\n",
            "  1.  Sınıf Değiştir\n",
            "  2.  Öğrenci Ekle\n",
            "  3.  Masa Sayısı\n",
            "\n",
            "Yapmak İstediğiniz İşlemi Seçiniz: 3\n",
            "Sınıfta 1 masa dolu\n"
          ]
        }
      ],
      "source": [
        "class PcLab():\n",
        "  def __init__(self, sinif_kodu = \"CS101\",kayitli_ogrenci = 0, dolu_masa_sayisi =0):\n",
        "    self.sinif_kodu = sinif_kodu\n",
        "    self.kayitli_ogrenci = kayitli_ogrenci\n",
        "    self.dolu_masa_sayisi = dolu_masa_sayisi\n",
        "\n",
        "  def bilgiler(self):\n",
        "    print(\"Sınıf Kodu: {} \\nSınıfa Kayıtlı Öğrenci Sayısı: {} \\nBoş Masa Sayısı: {}\".format(self.sinif_kodu,self.masa_sayisi,self.dolu_masa_sayisi))  \n",
        "\n",
        "\n",
        "class Instructor(PcLab):\n",
        "  \n",
        "  def sinif_degis(self,sinif):\n",
        "    self.sinif_kodu = sinif    \n",
        "    print(\".Sınıf Adı Değiştirildi. \\nYeni Sınıf Adı {}\".format(self.sinif_kodu))\n",
        "\n",
        "  def ogrenci_ekle(self,kayitli_ogrenci):\n",
        "    #self.kayitli_ogrenci.append.(kayitli_ogrenci)\n",
        "    self.kayitli_ogrenci = self.kayitli_ogrenci + 1\n",
        "    print(\".Öğrenci Eklendi. sınıfta {} öğrenci var\".format(self.kayitli_ogrenci))\n",
        "\n",
        "  def masa_sayisi_degis(self,dolu_masa_sayisi):\n",
        "    self.dolu_masa_sayisi = self.dolu_masa_sayisi + 1\n",
        "    print(\"Sınıfta {} masa dolu\".format(self.dolu_masa_sayisi))\n",
        "    \n",
        "Lab = PcLab()\n",
        "ogretmen = Instructor(PcLab) \n",
        "\n",
        "print(\"\"\"\n",
        "  1.  Sınıf Değiştir\n",
        "  2.  Öğrenci Ekle\n",
        "  3.  Masa Sayısı\n",
        "\"\"\")\n",
        "\n",
        "secim = input(\"Yapmak İstediğiniz İşlemi Seçiniz: \")\n",
        "\n",
        "if (secim == \"1\"):\n",
        "  sinif = input(\"Yeni Sınıf Kodunu Giriniz: \")\n",
        "  ogretmen.sinif_degis(sinif)\n",
        "\n",
        "if (secim == \"2\"):\n",
        "  kayitli_ogrenci = input(\"Öğrenci numarasını Giriniz: \")\n",
        "  ogretmen.ogrenci_ekle(kayitli_ogrenci)\n",
        "\n",
        "if (secim == \"3\"):\n",
        "  ogretmen.masa_sayisi_degis(kayitli_ogrenci)\n",
        "\n",
        "else:\n",
        "  print(\"!! HATALI İŞLEM !!\")  "
      ]
    }
  ]
}